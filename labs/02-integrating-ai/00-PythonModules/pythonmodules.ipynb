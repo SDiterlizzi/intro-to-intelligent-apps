{
 "cells": [
  {
   "cell_type": "markdown",
   "metadata": {},
   "source": [
    "# Python Modules\n",
    "\n",
    "A handful of Python modules are necessary to use the labs in this repo. The module names are listed in the `requirements.txt` file which can be found in the `labs` folder.\n",
    "\n",
    "Run the below to install the required packages.\n",
    "\n",
    "> **NOTE:** If you're running the labs using GitHub Codespaces or a dev container, these requirements should have already been installed as part of the container setup. However, you can run the below again to confirm everything is installed if you like!"
   ]
  },
  {
   "cell_type": "code",
   "execution_count": 1,
   "metadata": {},
   "outputs": [
    {
     "name": "stdout",
     "output_type": "stream",
     "text": [
      "Requirement already satisfied: azure-core==1.29.3 in /home/vscode/.local/lib/python3.11/site-packages (from -r ../../../requirements.txt (line 1)) (1.29.3)\n",
      "Requirement already satisfied: azure-identity==1.14.0 in /home/vscode/.local/lib/python3.11/site-packages (from -r ../../../requirements.txt (line 2)) (1.14.0)\n",
      "Requirement already satisfied: azure-search-documents==11.4.0b8 in /home/vscode/.local/lib/python3.11/site-packages (from -r ../../../requirements.txt (line 3)) (11.4.0b8)\n",
      "Requirement already satisfied: semantic-kernel==0.3.12.dev0 in /home/vscode/.local/lib/python3.11/site-packages (from -r ../../../requirements.txt (line 4)) (0.3.12.dev0)\n",
      "Requirement already satisfied: openai==0.27.9 in /home/vscode/.local/lib/python3.11/site-packages (from -r ../../../requirements.txt (line 5)) (0.27.9)\n",
      "Requirement already satisfied: langchain==0.0.325 in /home/vscode/.local/lib/python3.11/site-packages (from -r ../../../requirements.txt (line 6)) (0.0.325)\n",
      "Requirement already satisfied: tiktoken==0.4.0 in /home/vscode/.local/lib/python3.11/site-packages (from -r ../../../requirements.txt (line 7)) (0.4.0)\n",
      "Requirement already satisfied: python-dotenv==1.0.0 in /home/vscode/.local/lib/python3.11/site-packages (from -r ../../../requirements.txt (line 8)) (1.0.0)\n",
      "Requirement already satisfied: requests==2.31.0 in /home/vscode/.local/lib/python3.11/site-packages (from -r ../../../requirements.txt (line 9)) (2.31.0)\n",
      "Requirement already satisfied: unstructured==0.10.5 in /home/vscode/.local/lib/python3.11/site-packages (from -r ../../../requirements.txt (line 10)) (0.10.5)\n",
      "Requirement already satisfied: markdown==3.4.4 in /home/vscode/.local/lib/python3.11/site-packages (from -r ../../../requirements.txt (line 11)) (3.4.4)\n",
      "Requirement already satisfied: qdrant-client==1.4.0 in /home/vscode/.local/lib/python3.11/site-packages (from -r ../../../requirements.txt (line 12)) (1.4.0)\n",
      "Requirement already satisfied: chromadb==0.4.6 in /home/vscode/.local/lib/python3.11/site-packages (from -r ../../../requirements.txt (line 13)) (0.4.6)\n",
      "Requirement already satisfied: six>=1.11.0 in /home/vscode/.local/lib/python3.11/site-packages (from azure-core==1.29.3->-r ../../../requirements.txt (line 1)) (1.16.0)\n",
      "Requirement already satisfied: typing-extensions>=4.6.0 in /home/vscode/.local/lib/python3.11/site-packages (from azure-core==1.29.3->-r ../../../requirements.txt (line 1)) (4.8.0)\n",
      "Requirement already satisfied: cryptography>=2.5 in /home/vscode/.local/lib/python3.11/site-packages (from azure-identity==1.14.0->-r ../../../requirements.txt (line 2)) (41.0.5)\n",
      "Requirement already satisfied: msal<2.0.0,>=1.20.0 in /home/vscode/.local/lib/python3.11/site-packages (from azure-identity==1.14.0->-r ../../../requirements.txt (line 2)) (1.25.0)\n",
      "Requirement already satisfied: msal-extensions<2.0.0,>=0.3.0 in /home/vscode/.local/lib/python3.11/site-packages (from azure-identity==1.14.0->-r ../../../requirements.txt (line 2)) (1.0.0)\n",
      "Requirement already satisfied: azure-common~=1.1 in /home/vscode/.local/lib/python3.11/site-packages (from azure-search-documents==11.4.0b8->-r ../../../requirements.txt (line 3)) (1.1.28)\n",
      "Requirement already satisfied: isodate>=0.6.0 in /home/vscode/.local/lib/python3.11/site-packages (from azure-search-documents==11.4.0b8->-r ../../../requirements.txt (line 3)) (0.6.1)\n",
      "Requirement already satisfied: aiofiles<24.0.0,>=23.1.0 in /home/vscode/.local/lib/python3.11/site-packages (from semantic-kernel==0.3.12.dev0->-r ../../../requirements.txt (line 4)) (23.2.1)\n",
      "Requirement already satisfied: numpy<2.0.0,>=1.24.2 in /home/vscode/.local/lib/python3.11/site-packages (from semantic-kernel==0.3.12.dev0->-r ../../../requirements.txt (line 4)) (1.26.2)\n",
      "Requirement already satisfied: openapi_core<0.19.0,>=0.18.0 in /home/vscode/.local/lib/python3.11/site-packages (from semantic-kernel==0.3.12.dev0->-r ../../../requirements.txt (line 4)) (0.18.2)\n",
      "Requirement already satisfied: prance<24.0.0.0,>=23.6.21.0 in /home/vscode/.local/lib/python3.11/site-packages (from semantic-kernel==0.3.12.dev0->-r ../../../requirements.txt (line 4)) (23.6.21.0)\n",
      "Requirement already satisfied: pydantic<2 in /home/vscode/.local/lib/python3.11/site-packages (from semantic-kernel==0.3.12.dev0->-r ../../../requirements.txt (line 4)) (1.10.13)\n",
      "Requirement already satisfied: regex<2024.0.0,>=2023.6.3 in /home/vscode/.local/lib/python3.11/site-packages (from semantic-kernel==0.3.12.dev0->-r ../../../requirements.txt (line 4)) (2023.10.3)\n",
      "Requirement already satisfied: tqdm in /home/vscode/.local/lib/python3.11/site-packages (from openai==0.27.9->-r ../../../requirements.txt (line 5)) (4.66.1)\n",
      "Requirement already satisfied: aiohttp in /home/vscode/.local/lib/python3.11/site-packages (from openai==0.27.9->-r ../../../requirements.txt (line 5)) (3.8.6)\n",
      "Requirement already satisfied: PyYAML>=5.3 in /home/vscode/.local/lib/python3.11/site-packages (from langchain==0.0.325->-r ../../../requirements.txt (line 6)) (6.0.1)\n",
      "Requirement already satisfied: SQLAlchemy<3,>=1.4 in /home/vscode/.local/lib/python3.11/site-packages (from langchain==0.0.325->-r ../../../requirements.txt (line 6)) (2.0.23)\n",
      "Requirement already satisfied: anyio<4.0 in /home/vscode/.local/lib/python3.11/site-packages (from langchain==0.0.325->-r ../../../requirements.txt (line 6)) (3.7.1)\n",
      "Requirement already satisfied: dataclasses-json<0.7,>=0.5.7 in /home/vscode/.local/lib/python3.11/site-packages (from langchain==0.0.325->-r ../../../requirements.txt (line 6)) (0.6.2)\n",
      "Requirement already satisfied: jsonpatch<2.0,>=1.33 in /home/vscode/.local/lib/python3.11/site-packages (from langchain==0.0.325->-r ../../../requirements.txt (line 6)) (1.33)\n",
      "Requirement already satisfied: langsmith<0.1.0,>=0.0.52 in /home/vscode/.local/lib/python3.11/site-packages (from langchain==0.0.325->-r ../../../requirements.txt (line 6)) (0.0.64)\n",
      "Requirement already satisfied: tenacity<9.0.0,>=8.1.0 in /home/vscode/.local/lib/python3.11/site-packages (from langchain==0.0.325->-r ../../../requirements.txt (line 6)) (8.2.3)\n",
      "Requirement already satisfied: charset-normalizer<4,>=2 in /home/vscode/.local/lib/python3.11/site-packages (from requests==2.31.0->-r ../../../requirements.txt (line 9)) (3.3.2)\n",
      "Requirement already satisfied: idna<4,>=2.5 in /home/vscode/.local/lib/python3.11/site-packages (from requests==2.31.0->-r ../../../requirements.txt (line 9)) (3.4)\n",
      "Requirement already satisfied: urllib3<3,>=1.21.1 in /home/vscode/.local/lib/python3.11/site-packages (from requests==2.31.0->-r ../../../requirements.txt (line 9)) (1.26.18)\n",
      "Requirement already satisfied: certifi>=2017.4.17 in /home/vscode/.local/lib/python3.11/site-packages (from requests==2.31.0->-r ../../../requirements.txt (line 9)) (2023.7.22)\n",
      "Requirement already satisfied: chardet in /home/vscode/.local/lib/python3.11/site-packages (from unstructured==0.10.5->-r ../../../requirements.txt (line 10)) (5.2.0)\n",
      "Requirement already satisfied: filetype in /home/vscode/.local/lib/python3.11/site-packages (from unstructured==0.10.5->-r ../../../requirements.txt (line 10)) (1.2.0)\n",
      "Requirement already satisfied: python-magic in /home/vscode/.local/lib/python3.11/site-packages (from unstructured==0.10.5->-r ../../../requirements.txt (line 10)) (0.4.27)\n",
      "Requirement already satisfied: lxml in /home/vscode/.local/lib/python3.11/site-packages (from unstructured==0.10.5->-r ../../../requirements.txt (line 10)) (4.9.3)\n",
      "Requirement already satisfied: nltk in /home/vscode/.local/lib/python3.11/site-packages (from unstructured==0.10.5->-r ../../../requirements.txt (line 10)) (3.8.1)\n",
      "Requirement already satisfied: tabulate in /home/vscode/.local/lib/python3.11/site-packages (from unstructured==0.10.5->-r ../../../requirements.txt (line 10)) (0.9.0)\n",
      "Requirement already satisfied: beautifulsoup4 in /home/vscode/.local/lib/python3.11/site-packages (from unstructured==0.10.5->-r ../../../requirements.txt (line 10)) (4.12.2)\n",
      "Requirement already satisfied: emoji in /home/vscode/.local/lib/python3.11/site-packages (from unstructured==0.10.5->-r ../../../requirements.txt (line 10)) (2.8.0)\n",
      "Requirement already satisfied: grpcio>=1.41.0 in /home/vscode/.local/lib/python3.11/site-packages (from qdrant-client==1.4.0->-r ../../../requirements.txt (line 12)) (1.59.2)\n",
      "Requirement already satisfied: grpcio-tools>=1.41.0 in /home/vscode/.local/lib/python3.11/site-packages (from qdrant-client==1.4.0->-r ../../../requirements.txt (line 12)) (1.59.2)\n",
      "Requirement already satisfied: httpx>=0.14.0 in /home/vscode/.local/lib/python3.11/site-packages (from httpx[http2]>=0.14.0->qdrant-client==1.4.0->-r ../../../requirements.txt (line 12)) (0.25.1)\n",
      "Requirement already satisfied: portalocker<3.0.0,>=2.7.0 in /home/vscode/.local/lib/python3.11/site-packages (from qdrant-client==1.4.0->-r ../../../requirements.txt (line 12)) (2.8.2)\n",
      "Requirement already satisfied: chroma-hnswlib==0.7.2 in /home/vscode/.local/lib/python3.11/site-packages (from chromadb==0.4.6->-r ../../../requirements.txt (line 13)) (0.7.2)\n",
      "Requirement already satisfied: fastapi<0.100.0,>=0.95.2 in /home/vscode/.local/lib/python3.11/site-packages (from chromadb==0.4.6->-r ../../../requirements.txt (line 13)) (0.99.1)\n",
      "Requirement already satisfied: uvicorn>=0.18.3 in /home/vscode/.local/lib/python3.11/site-packages (from uvicorn[standard]>=0.18.3->chromadb==0.4.6->-r ../../../requirements.txt (line 13)) (0.24.0.post1)\n",
      "Requirement already satisfied: posthog>=2.4.0 in /home/vscode/.local/lib/python3.11/site-packages (from chromadb==0.4.6->-r ../../../requirements.txt (line 13)) (3.0.2)\n",
      "Requirement already satisfied: pulsar-client>=3.1.0 in /home/vscode/.local/lib/python3.11/site-packages (from chromadb==0.4.6->-r ../../../requirements.txt (line 13)) (3.3.0)\n",
      "Requirement already satisfied: onnxruntime>=1.14.1 in /home/vscode/.local/lib/python3.11/site-packages (from chromadb==0.4.6->-r ../../../requirements.txt (line 13)) (1.16.2)\n",
      "Requirement already satisfied: tokenizers>=0.13.2 in /home/vscode/.local/lib/python3.11/site-packages (from chromadb==0.4.6->-r ../../../requirements.txt (line 13)) (0.15.0)\n",
      "Requirement already satisfied: pypika>=0.48.9 in /home/vscode/.local/lib/python3.11/site-packages (from chromadb==0.4.6->-r ../../../requirements.txt (line 13)) (0.48.9)\n",
      "Requirement already satisfied: overrides>=7.3.1 in /home/vscode/.local/lib/python3.11/site-packages (from chromadb==0.4.6->-r ../../../requirements.txt (line 13)) (7.4.0)\n",
      "Requirement already satisfied: importlib-resources in /home/vscode/.local/lib/python3.11/site-packages (from chromadb==0.4.6->-r ../../../requirements.txt (line 13)) (6.1.1)\n",
      "Requirement already satisfied: attrs>=17.3.0 in /home/vscode/.local/lib/python3.11/site-packages (from aiohttp->openai==0.27.9->-r ../../../requirements.txt (line 5)) (23.1.0)\n",
      "Requirement already satisfied: multidict<7.0,>=4.5 in /home/vscode/.local/lib/python3.11/site-packages (from aiohttp->openai==0.27.9->-r ../../../requirements.txt (line 5)) (6.0.4)\n",
      "Requirement already satisfied: async-timeout<5.0,>=4.0.0a3 in /home/vscode/.local/lib/python3.11/site-packages (from aiohttp->openai==0.27.9->-r ../../../requirements.txt (line 5)) (4.0.3)\n",
      "Requirement already satisfied: yarl<2.0,>=1.0 in /home/vscode/.local/lib/python3.11/site-packages (from aiohttp->openai==0.27.9->-r ../../../requirements.txt (line 5)) (1.9.2)\n",
      "Requirement already satisfied: frozenlist>=1.1.1 in /home/vscode/.local/lib/python3.11/site-packages (from aiohttp->openai==0.27.9->-r ../../../requirements.txt (line 5)) (1.4.0)\n",
      "Requirement already satisfied: aiosignal>=1.1.2 in /home/vscode/.local/lib/python3.11/site-packages (from aiohttp->openai==0.27.9->-r ../../../requirements.txt (line 5)) (1.3.1)\n",
      "Requirement already satisfied: sniffio>=1.1 in /home/vscode/.local/lib/python3.11/site-packages (from anyio<4.0->langchain==0.0.325->-r ../../../requirements.txt (line 6)) (1.3.0)\n",
      "Requirement already satisfied: cffi>=1.12 in /home/vscode/.local/lib/python3.11/site-packages (from cryptography>=2.5->azure-identity==1.14.0->-r ../../../requirements.txt (line 2)) (1.16.0)\n",
      "Requirement already satisfied: marshmallow<4.0.0,>=3.18.0 in /home/vscode/.local/lib/python3.11/site-packages (from dataclasses-json<0.7,>=0.5.7->langchain==0.0.325->-r ../../../requirements.txt (line 6)) (3.20.1)\n",
      "Requirement already satisfied: typing-inspect<1,>=0.4.0 in /home/vscode/.local/lib/python3.11/site-packages (from dataclasses-json<0.7,>=0.5.7->langchain==0.0.325->-r ../../../requirements.txt (line 6)) (0.9.0)\n",
      "Requirement already satisfied: starlette<0.28.0,>=0.27.0 in /home/vscode/.local/lib/python3.11/site-packages (from fastapi<0.100.0,>=0.95.2->chromadb==0.4.6->-r ../../../requirements.txt (line 13)) (0.27.0)\n",
      "Requirement already satisfied: protobuf<5.0dev,>=4.21.6 in /home/vscode/.local/lib/python3.11/site-packages (from grpcio-tools>=1.41.0->qdrant-client==1.4.0->-r ../../../requirements.txt (line 12)) (4.25.0)\n",
      "Requirement already satisfied: setuptools in /usr/local/python/3.11.6/lib/python3.11/site-packages (from grpcio-tools>=1.41.0->qdrant-client==1.4.0->-r ../../../requirements.txt (line 12)) (65.5.0)\n",
      "Requirement already satisfied: httpcore in /home/vscode/.local/lib/python3.11/site-packages (from httpx>=0.14.0->httpx[http2]>=0.14.0->qdrant-client==1.4.0->-r ../../../requirements.txt (line 12)) (1.0.2)\n",
      "Requirement already satisfied: h2<5,>=3 in /home/vscode/.local/lib/python3.11/site-packages (from httpx[http2]>=0.14.0->qdrant-client==1.4.0->-r ../../../requirements.txt (line 12)) (4.1.0)\n",
      "Requirement already satisfied: jsonpointer>=1.9 in /home/vscode/.local/lib/python3.11/site-packages (from jsonpatch<2.0,>=1.33->langchain==0.0.325->-r ../../../requirements.txt (line 6)) (2.4)\n",
      "Requirement already satisfied: PyJWT<3,>=1.0.0 in /home/vscode/.local/lib/python3.11/site-packages (from PyJWT[crypto]<3,>=1.0.0->msal<2.0.0,>=1.20.0->azure-identity==1.14.0->-r ../../../requirements.txt (line 2)) (2.8.0)\n",
      "Requirement already satisfied: coloredlogs in /home/vscode/.local/lib/python3.11/site-packages (from onnxruntime>=1.14.1->chromadb==0.4.6->-r ../../../requirements.txt (line 13)) (15.0.1)\n",
      "Requirement already satisfied: flatbuffers in /home/vscode/.local/lib/python3.11/site-packages (from onnxruntime>=1.14.1->chromadb==0.4.6->-r ../../../requirements.txt (line 13)) (23.5.26)\n",
      "Requirement already satisfied: packaging in /home/vscode/.local/lib/python3.11/site-packages (from onnxruntime>=1.14.1->chromadb==0.4.6->-r ../../../requirements.txt (line 13)) (23.2)\n",
      "Requirement already satisfied: sympy in /home/vscode/.local/lib/python3.11/site-packages (from onnxruntime>=1.14.1->chromadb==0.4.6->-r ../../../requirements.txt (line 13)) (1.12)\n",
      "Requirement already satisfied: asgiref<4.0.0,>=3.6.0 in /home/vscode/.local/lib/python3.11/site-packages (from openapi_core<0.19.0,>=0.18.0->semantic-kernel==0.3.12.dev0->-r ../../../requirements.txt (line 4)) (3.7.2)\n",
      "Requirement already satisfied: jsonschema<5.0.0,>=4.18.0 in /home/vscode/.local/lib/python3.11/site-packages (from openapi_core<0.19.0,>=0.18.0->semantic-kernel==0.3.12.dev0->-r ../../../requirements.txt (line 4)) (4.19.2)\n",
      "Requirement already satisfied: jsonschema-spec<0.3.0,>=0.2.3 in /home/vscode/.local/lib/python3.11/site-packages (from openapi_core<0.19.0,>=0.18.0->semantic-kernel==0.3.12.dev0->-r ../../../requirements.txt (line 4)) (0.2.4)\n",
      "Requirement already satisfied: more-itertools in /home/vscode/.local/lib/python3.11/site-packages (from openapi_core<0.19.0,>=0.18.0->semantic-kernel==0.3.12.dev0->-r ../../../requirements.txt (line 4)) (10.1.0)\n",
      "Requirement already satisfied: openapi-schema-validator<0.7.0,>=0.6.0 in /home/vscode/.local/lib/python3.11/site-packages (from openapi_core<0.19.0,>=0.18.0->semantic-kernel==0.3.12.dev0->-r ../../../requirements.txt (line 4)) (0.6.2)\n",
      "Requirement already satisfied: openapi-spec-validator<0.8.0,>=0.7.1 in /home/vscode/.local/lib/python3.11/site-packages (from openapi_core<0.19.0,>=0.18.0->semantic-kernel==0.3.12.dev0->-r ../../../requirements.txt (line 4)) (0.7.1)\n",
      "Requirement already satisfied: parse in /home/vscode/.local/lib/python3.11/site-packages (from openapi_core<0.19.0,>=0.18.0->semantic-kernel==0.3.12.dev0->-r ../../../requirements.txt (line 4)) (1.19.1)\n",
      "Requirement already satisfied: werkzeug in /home/vscode/.local/lib/python3.11/site-packages (from openapi_core<0.19.0,>=0.18.0->semantic-kernel==0.3.12.dev0->-r ../../../requirements.txt (line 4)) (3.0.1)\n",
      "Requirement already satisfied: monotonic>=1.5 in /home/vscode/.local/lib/python3.11/site-packages (from posthog>=2.4.0->chromadb==0.4.6->-r ../../../requirements.txt (line 13)) (1.6)\n",
      "Requirement already satisfied: backoff>=1.10.0 in /home/vscode/.local/lib/python3.11/site-packages (from posthog>=2.4.0->chromadb==0.4.6->-r ../../../requirements.txt (line 13)) (2.2.1)\n",
      "Requirement already satisfied: python-dateutil>2.1 in /home/vscode/.local/lib/python3.11/site-packages (from posthog>=2.4.0->chromadb==0.4.6->-r ../../../requirements.txt (line 13)) (2.8.2)\n",
      "Requirement already satisfied: ruamel.yaml>=0.17.10 in /home/vscode/.local/lib/python3.11/site-packages (from prance<24.0.0.0,>=23.6.21.0->semantic-kernel==0.3.12.dev0->-r ../../../requirements.txt (line 4)) (0.18.5)\n",
      "Requirement already satisfied: greenlet!=0.4.17 in /home/vscode/.local/lib/python3.11/site-packages (from SQLAlchemy<3,>=1.4->langchain==0.0.325->-r ../../../requirements.txt (line 6)) (3.0.1)\n",
      "Requirement already satisfied: huggingface_hub<1.0,>=0.16.4 in /home/vscode/.local/lib/python3.11/site-packages (from tokenizers>=0.13.2->chromadb==0.4.6->-r ../../../requirements.txt (line 13)) (0.19.2)\n",
      "Requirement already satisfied: click>=7.0 in /home/vscode/.local/lib/python3.11/site-packages (from uvicorn>=0.18.3->uvicorn[standard]>=0.18.3->chromadb==0.4.6->-r ../../../requirements.txt (line 13)) (8.1.7)\n",
      "Requirement already satisfied: h11>=0.8 in /home/vscode/.local/lib/python3.11/site-packages (from uvicorn>=0.18.3->uvicorn[standard]>=0.18.3->chromadb==0.4.6->-r ../../../requirements.txt (line 13)) (0.14.0)\n",
      "Requirement already satisfied: httptools>=0.5.0 in /home/vscode/.local/lib/python3.11/site-packages (from uvicorn[standard]>=0.18.3->chromadb==0.4.6->-r ../../../requirements.txt (line 13)) (0.6.1)\n",
      "Requirement already satisfied: uvloop!=0.15.0,!=0.15.1,>=0.14.0 in /home/vscode/.local/lib/python3.11/site-packages (from uvicorn[standard]>=0.18.3->chromadb==0.4.6->-r ../../../requirements.txt (line 13)) (0.19.0)\n",
      "Requirement already satisfied: watchfiles>=0.13 in /home/vscode/.local/lib/python3.11/site-packages (from uvicorn[standard]>=0.18.3->chromadb==0.4.6->-r ../../../requirements.txt (line 13)) (0.21.0)\n",
      "Requirement already satisfied: websockets>=10.4 in /home/vscode/.local/lib/python3.11/site-packages (from uvicorn[standard]>=0.18.3->chromadb==0.4.6->-r ../../../requirements.txt (line 13)) (12.0)\n",
      "Requirement already satisfied: soupsieve>1.2 in /home/vscode/.local/lib/python3.11/site-packages (from beautifulsoup4->unstructured==0.10.5->-r ../../../requirements.txt (line 10)) (2.5)\n",
      "Requirement already satisfied: joblib in /home/vscode/.local/lib/python3.11/site-packages (from nltk->unstructured==0.10.5->-r ../../../requirements.txt (line 10)) (1.3.2)\n",
      "Requirement already satisfied: pycparser in /home/vscode/.local/lib/python3.11/site-packages (from cffi>=1.12->cryptography>=2.5->azure-identity==1.14.0->-r ../../../requirements.txt (line 2)) (2.21)\n",
      "Requirement already satisfied: hyperframe<7,>=6.0 in /home/vscode/.local/lib/python3.11/site-packages (from h2<5,>=3->httpx[http2]>=0.14.0->qdrant-client==1.4.0->-r ../../../requirements.txt (line 12)) (6.0.1)\n",
      "Requirement already satisfied: hpack<5,>=4.0 in /home/vscode/.local/lib/python3.11/site-packages (from h2<5,>=3->httpx[http2]>=0.14.0->qdrant-client==1.4.0->-r ../../../requirements.txt (line 12)) (4.0.0)\n",
      "Requirement already satisfied: filelock in /home/vscode/.local/lib/python3.11/site-packages (from huggingface_hub<1.0,>=0.16.4->tokenizers>=0.13.2->chromadb==0.4.6->-r ../../../requirements.txt (line 13)) (3.13.1)\n",
      "Requirement already satisfied: fsspec>=2023.5.0 in /home/vscode/.local/lib/python3.11/site-packages (from huggingface_hub<1.0,>=0.16.4->tokenizers>=0.13.2->chromadb==0.4.6->-r ../../../requirements.txt (line 13)) (2023.10.0)\n",
      "Requirement already satisfied: jsonschema-specifications>=2023.03.6 in /home/vscode/.local/lib/python3.11/site-packages (from jsonschema<5.0.0,>=4.18.0->openapi_core<0.19.0,>=0.18.0->semantic-kernel==0.3.12.dev0->-r ../../../requirements.txt (line 4)) (2023.7.1)\n",
      "Requirement already satisfied: referencing>=0.28.4 in /home/vscode/.local/lib/python3.11/site-packages (from jsonschema<5.0.0,>=4.18.0->openapi_core<0.19.0,>=0.18.0->semantic-kernel==0.3.12.dev0->-r ../../../requirements.txt (line 4)) (0.30.2)\n",
      "Requirement already satisfied: rpds-py>=0.7.1 in /home/vscode/.local/lib/python3.11/site-packages (from jsonschema<5.0.0,>=4.18.0->openapi_core<0.19.0,>=0.18.0->semantic-kernel==0.3.12.dev0->-r ../../../requirements.txt (line 4)) (0.12.0)\n",
      "Requirement already satisfied: pathable<0.5.0,>=0.4.1 in /home/vscode/.local/lib/python3.11/site-packages (from jsonschema-spec<0.3.0,>=0.2.3->openapi_core<0.19.0,>=0.18.0->semantic-kernel==0.3.12.dev0->-r ../../../requirements.txt (line 4)) (0.4.3)\n",
      "Requirement already satisfied: rfc3339-validator in /home/vscode/.local/lib/python3.11/site-packages (from openapi-schema-validator<0.7.0,>=0.6.0->openapi_core<0.19.0,>=0.18.0->semantic-kernel==0.3.12.dev0->-r ../../../requirements.txt (line 4)) (0.1.4)\n",
      "Requirement already satisfied: jsonschema-path<0.4.0,>=0.3.1 in /home/vscode/.local/lib/python3.11/site-packages (from openapi-spec-validator<0.8.0,>=0.7.1->openapi_core<0.19.0,>=0.18.0->semantic-kernel==0.3.12.dev0->-r ../../../requirements.txt (line 4)) (0.3.2)\n",
      "Requirement already satisfied: lazy-object-proxy<2.0.0,>=1.7.1 in /home/vscode/.local/lib/python3.11/site-packages (from openapi-spec-validator<0.8.0,>=0.7.1->openapi_core<0.19.0,>=0.18.0->semantic-kernel==0.3.12.dev0->-r ../../../requirements.txt (line 4)) (1.9.0)\n",
      "Requirement already satisfied: ruamel.yaml.clib>=0.2.7 in /home/vscode/.local/lib/python3.11/site-packages (from ruamel.yaml>=0.17.10->prance<24.0.0.0,>=23.6.21.0->semantic-kernel==0.3.12.dev0->-r ../../../requirements.txt (line 4)) (0.2.8)\n",
      "Requirement already satisfied: mypy-extensions>=0.3.0 in /home/vscode/.local/lib/python3.11/site-packages (from typing-inspect<1,>=0.4.0->dataclasses-json<0.7,>=0.5.7->langchain==0.0.325->-r ../../../requirements.txt (line 6)) (1.0.0)\n",
      "Requirement already satisfied: humanfriendly>=9.1 in /home/vscode/.local/lib/python3.11/site-packages (from coloredlogs->onnxruntime>=1.14.1->chromadb==0.4.6->-r ../../../requirements.txt (line 13)) (10.0)\n",
      "Requirement already satisfied: mpmath>=0.19 in /home/vscode/.local/lib/python3.11/site-packages (from sympy->onnxruntime>=1.14.1->chromadb==0.4.6->-r ../../../requirements.txt (line 13)) (1.3.0)\n",
      "Requirement already satisfied: MarkupSafe>=2.1.1 in /home/vscode/.local/lib/python3.11/site-packages (from werkzeug->openapi_core<0.19.0,>=0.18.0->semantic-kernel==0.3.12.dev0->-r ../../../requirements.txt (line 4)) (2.1.3)\n",
      "Note: you may need to restart the kernel to use updated packages.\n"
     ]
    }
   ],
   "source": [
    "%pip install -r ../../../requirements.txt"
   ]
  },
  {
   "cell_type": "markdown",
   "metadata": {},
   "source": [
    "If there are no errors above, you can proceed with the rest of the labs."
   ]
  },
  {
   "cell_type": "markdown",
   "metadata": {},
   "source": [
    "## Next Section\n",
    "\n",
    "📣 [Azure OpenAI API](../01-AzureOpenAIAPI/azureopenaiapi.ipynb)"
   ]
  }
 ],
 "metadata": {
  "kernelspec": {
   "display_name": "Python 3",
   "language": "python",
   "name": "python3"
  },
  "language_info": {
   "codemirror_mode": {
    "name": "ipython",
    "version": 3
   },
   "file_extension": ".py",
   "mimetype": "text/x-python",
   "name": "python",
   "nbconvert_exporter": "python",
   "pygments_lexer": "ipython3",
   "version": "3.11.6"
  },
  "orig_nbformat": 4,
  "polyglot_notebook": {
   "kernelInfo": {
    "defaultKernelName": "csharp",
    "items": [
     {
      "aliases": [],
      "name": "csharp"
     }
    ]
   }
  }
 },
 "nbformat": 4,
 "nbformat_minor": 2
}
