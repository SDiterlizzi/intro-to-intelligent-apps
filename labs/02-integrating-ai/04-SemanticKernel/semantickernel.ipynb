{
 "cells": [
  {
   "attachments": {},
   "cell_type": "markdown",
   "metadata": {},
   "source": [
    "# 04. Semantic Kernel\n",
    "\n",
    "In this lab, we will introduce **Semantic Kernel**. Like **Langchain**, it provides a framework for working with AI models and supports applications written in Python. Semantic Kernel also adds support for .NET and Java applications.\n",
    "\n",
    "As with the other labs, we'll start by reading in values from the `.env` file.\n",
    "\n",
    "___\n",
    "**NOTE**: This lab uses **.NET** so be sure to select .NET and not Python when starting to use this notebook.\n",
    "___"
   ]
  },
  {
   "cell_type": "code",
   "execution_count": 1,
   "metadata": {
    "dotnet_interactive": {
     "language": "csharp"
    },
    "polyglot_notebook": {
     "kernelName": "csharp"
    },
    "vscode": {
     "languageId": "polyglot-notebook"
    }
   },
   "outputs": [
    {
     "data": {
      "text/html": [
       "<div><div></div><div></div><div><strong>Installed Packages</strong><ul><li><span>dotenv.net, 3.1.2</span></li></ul></div></div>"
      ]
     },
     "metadata": {},
     "output_type": "display_data"
    }
   ],
   "source": [
    "#r \"nuget: dotenv.net, 3.1.2\"\n",
    "\n",
    "using dotenv.net;\n",
    "\n",
    "// Read values from .env file\n",
    "var envVars = DotEnv.Fluent()\n",
    "    .WithoutExceptions()\n",
    "    .WithEnvFiles(\"../../../.env\")\n",
    "    .WithTrimValues()\n",
    "    .WithDefaultEncoding()\n",
    "    .WithOverwriteExistingVars()\n",
    "    .WithoutProbeForEnv()\n",
    "    .Read();\n",
    "\n",
    "// Load values into variables and strip quotes\n",
    "var model = envVars[\"AZURE_OPENAI_COMPLETION_DEPLOYMENT_NAME\"].Replace(\"\\\"\", \"\");\n",
    "var azureEndpoint = envVars[\"OPENAI_API_BASE\"].Replace(\"\\\"\", \"\");\n",
    "var apiKey = envVars[\"OPENAI_API_KEY\"].Replace(\"\\\"\", \"\");\n"
   ]
  },
  {
   "attachments": {},
   "cell_type": "markdown",
   "metadata": {},
   "source": [
    "To start working with Semantic Kernel, we'll need to load its nuget package."
   ]
  },
  {
   "cell_type": "code",
   "execution_count": 2,
   "metadata": {
    "dotnet_interactive": {
     "language": "csharp"
    },
    "polyglot_notebook": {
     "kernelName": "csharp"
    },
    "vscode": {
     "languageId": "polyglot-notebook"
    }
   },
   "outputs": [
    {
     "data": {
      "text/html": [
       "<div><div></div><div></div><div><strong>Installed Packages</strong><ul><li><span>Microsoft.SemanticKernel, 0.24.230918.1-preview</span></li></ul></div></div>"
      ]
     },
     "metadata": {},
     "output_type": "display_data"
    }
   ],
   "source": [
    "#r \"nuget: Microsoft.SemanticKernel, 0.24.230918.1-preview\""
   ]
  },
  {
   "attachments": {},
   "cell_type": "markdown",
   "metadata": {},
   "source": [
    "Semantic Kernel works by creating an instance of the Kernel and then adding in various plugins to perform different functions. Those addins or functions can then be called individually or chained together to perform more complex tasks.\n",
    "\n",
    "We use the standard .NET `builder` pattern to initialise the kernel. Notice that we pass in the details of the completion model that we're going to use, the Azure OpenAI API endpoint URL and the API key."
   ]
  },
  {
   "cell_type": "code",
   "execution_count": 3,
   "metadata": {
    "dotnet_interactive": {
     "language": "csharp"
    },
    "polyglot_notebook": {
     "kernelName": "csharp"
    },
    "vscode": {
     "languageId": "polyglot-notebook"
    }
   },
   "outputs": [],
   "source": [
    "using Microsoft.SemanticKernel;\n",
    "\n",
    "var builder = new KernelBuilder();\n",
    "builder.WithAzureChatCompletionService(model, azureEndpoint, apiKey);\n",
    "\n",
    "IKernel kernel = builder.Build();"
   ]
  },
  {
   "attachments": {},
   "cell_type": "markdown",
   "metadata": {},
   "source": [
    "Let's create a Semantic Function to perform a simple query. We start by creating a prompt template. Notice that we use a placeholder - `{{$input}}` - to represent a value that we will pass in later."
   ]
  },
  {
   "cell_type": "code",
   "execution_count": 4,
   "metadata": {
    "dotnet_interactive": {
     "language": "csharp"
    },
    "polyglot_notebook": {
     "kernelName": "csharp"
    },
    "vscode": {
     "languageId": "polyglot-notebook"
    }
   },
   "outputs": [],
   "source": [
    "string prompt = \"What interesting things can I make with a {{$input}}?\";"
   ]
  },
  {
   "attachments": {},
   "cell_type": "markdown",
   "metadata": {},
   "source": [
    "Next we create a Semantic Function using our prompt and register it with the kernel."
   ]
  },
  {
   "cell_type": "code",
   "execution_count": 5,
   "metadata": {
    "dotnet_interactive": {
     "language": "csharp"
    },
    "polyglot_notebook": {
     "kernelName": "csharp"
    },
    "vscode": {
     "languageId": "polyglot-notebook"
    }
   },
   "outputs": [],
   "source": [
    "var whatCanIMakeFunction = kernel.CreateSemanticFunction(prompt);"
   ]
  },
  {
   "attachments": {},
   "cell_type": "markdown",
   "metadata": {},
   "source": [
    "Finally, we invoke the function with a value passed in to replace our `{{$input}}` variable."
   ]
  },
  {
   "cell_type": "code",
   "execution_count": 6,
   "metadata": {
    "dotnet_interactive": {
     "language": "csharp"
    },
    "polyglot_notebook": {
     "kernelName": "csharp"
    },
    "vscode": {
     "languageId": "polyglot-notebook"
    }
   },
   "outputs": [
    {
     "name": "stdout",
     "output_type": "stream",
     "text": [
      "There are countless interesting projects you can create with a Raspberry Pi! Here are a few ideas to get you started:\n",
      "\n",
      "1. Media center: Turn your Raspberry Pi into a media center by installing Kodi or Plex. You can stream movies, TV shows, and music to your TV or other devices.\n",
      "\n",
      "2. Retro gaming console: Build a retro gaming console using RetroPie. You can play classic games from various consoles, such as NES, SNES, Sega Genesis, and more.\n",
      "\n",
      "3. Home automation: Use your Raspberry Pi to control and automate various aspects of your home, such as lights, appliances, and security systems. You can use platforms like Home Assistant or OpenHAB.\n",
      "\n",
      "4. Weather station: Create a weather station that collects and displays weather data, such as temperature, humidity, and air pressure. You can even upload the data to a website for remote monitoring.\n",
      "\n",
      "5. Robotics: Build a robot using a Raspberry Pi as the brain. You can control motors, sensors, and other components to create a variety of robotic projects, from simple line-following robots to more complex autonomous vehicles.\n",
      "\n",
      "6. Network-wide ad-blocker: Set up a Raspberry Pi as a network-wide ad-blocker using Pi-hole. It blocks ads at the network level, so all devices connected to your network will benefit.\n",
      "\n",
      "7. Smart mirror: Create a smart mirror that displays useful information like the time, weather, calendar events, and news headlines. You can also integrate voice control for added convenience.\n",
      "\n",
      "8. Portable gaming console: Build a handheld gaming console using a Raspberry Pi, a small display, and some buttons. You can play retro games on the go.\n",
      "\n",
      "9. Home surveillance system: Set up a home surveillance system using a Raspberry Pi and a camera module. You can monitor your home remotely and receive alerts for any detected motion.\n",
      "\n",
      "10. Voice assistant: Create your own voice assistant using a Raspberry Pi and platforms like Google Assistant or Amazon Alexa. You can control smart devices, play music, answer questions, and more.\n",
      "\n",
      "These are just a few examples, and the possibilities are nearly endless. The Raspberry Pi community is very active, so you can find plenty of tutorials and project ideas online to suit your interests and skill level.\n"
     ]
    }
   ],
   "source": [
    "var response = await whatCanIMakeFunction.InvokeAsync(\"raspberry pi\");\n",
    "\n",
    "Console.WriteLine(response);"
   ]
  },
  {
   "attachments": {},
   "cell_type": "markdown",
   "metadata": {},
   "source": [
    "The result is a long list of ideas for things we could make with a Raspberry Pi. \n",
    "\n",
    "Now, let's look at chaining functions together. We can configure Semantic Kernel to perform multiple tasks, using the output of the first task as the `$input` for the second and so on.\n",
    "\n",
    "Let's improve the above query by getting a summary of the options that were generated. First, we'll create a new prompt that will generate a summary of some text."
   ]
  },
  {
   "cell_type": "code",
   "execution_count": 8,
   "metadata": {
    "dotnet_interactive": {
     "language": "csharp"
    },
    "polyglot_notebook": {
     "kernelName": "csharp"
    },
    "vscode": {
     "languageId": "polyglot-notebook"
    }
   },
   "outputs": [],
   "source": [
    "string summaryPrompt = \"Summarize the following text: {{$input}}\";\n",
    "var summaryFunction = kernel.CreateSemanticFunction(summaryPrompt);"
   ]
  },
  {
   "attachments": {},
   "cell_type": "markdown",
   "metadata": {},
   "source": [
    "With our new semantic function created, let's now run it together with the original prompt to generate ideas. The following code will initiate the `whatCanIMakeFunction` with the value `raspberry pi` and then pass the output from that function to the `summaryFunction`."
   ]
  },
  {
   "cell_type": "code",
   "execution_count": 9,
   "metadata": {
    "dotnet_interactive": {
     "language": "csharp"
    },
    "polyglot_notebook": {
     "kernelName": "csharp"
    },
    "vscode": {
     "languageId": "polyglot-notebook"
    }
   },
   "outputs": [
    {
     "name": "stdout",
     "output_type": "stream",
     "text": [
      "The text provides a list of interesting projects that can be created with a Raspberry Pi. Some of the ideas include turning it into a media center, retro gaming console, home automation system, weather station, robotics project, network-wide ad-blocker, smart mirror, portable gaming console, home surveillance system, and voice assistant. The Raspberry Pi community is active, providing tutorials and project ideas online for various interests and skill levels.\n"
     ]
    }
   ],
   "source": [
    "var context = await kernel.RunAsync(\n",
    "    new ContextVariables(\"raspberry pi\"),\n",
    "    whatCanIMakeFunction,\n",
    "    summaryFunction);\n",
    "\n",
    "Console.WriteLine(context);"
   ]
  },
  {
   "attachments": {},
   "cell_type": "markdown",
   "metadata": {},
   "source": [
    "## Summary\n",
    "\n",
    "Semantic Kernel is another example of an AI orchestrator. Like other orchestrators, it can be used to simplify the process of creating complex AI applications."
   ]
  },
  {
   "cell_type": "markdown",
   "metadata": {},
   "source": [
    "## Next Section\n",
    "\n",
    "📣 [AI Orchestration](../../03-orchestration/README.md)"
   ]
  }
 ],
 "metadata": {
  "kernelspec": {
   "display_name": "Python 3",
   "language": "python",
   "name": "python3"
  },
  "language_info": {
   "name": "python",
   "version": "3.11.6"
  },
  "orig_nbformat": 4
 },
 "nbformat": 4,
 "nbformat_minor": 2
}
